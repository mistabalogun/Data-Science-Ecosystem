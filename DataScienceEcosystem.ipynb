{
 "cells": [
  {
   "cell_type": "markdown",
   "id": "bcf00844-0807-4317-815e-54b1ae598400",
   "metadata": {},
   "source": [
    "# Data Science Tools and Ecosysyem"
   ]
  },
  {
   "cell_type": "markdown",
   "id": "3d0c116c-ff5d-4999-95d1-3f1295bc3370",
   "metadata": {},
   "source": [
    "In this notebook, Data Science Tools and Ecosystem are summarized."
   ]
  },
  {
   "cell_type": "markdown",
   "id": "2d46fc19-052b-480a-ae42-8b545d7a79ff",
   "metadata": {},
   "source": [
    "**Objectives**\n",
    "\n",
    "*Python Lab\n",
    "\n",
    "*Visual Code\n",
    "\n",
    "*JavaScript"
   ]
  },
  {
   "cell_type": "markdown",
   "id": "ef925d96-df98-4a87-a24b-8831fb5042b0",
   "metadata": {},
   "source": [
    "Some of the popular languages that Data Scientists use are:\n",
    "1. Python\n",
    "2. C++\n",
    "3. Java\n",
    "4. JavaScript"
   ]
  },
  {
   "cell_type": "markdown",
   "id": "7dc84b59-eae2-44b0-b7ac-269c4e63b236",
   "metadata": {},
   "source": [
    "Some of the commonly used libraries used by Data Scientists include:\n",
    "1. Matplotlib\n",
    "2. NumPy\n",
    "3. Pandas\n",
    "4. TensorFlow\n",
    "5. Seaborn\n",
    "6. PyTorch\n"
   ]
  },
  {
   "cell_type": "markdown",
   "id": "baa669f1-d1ba-4f5a-a30f-66f40e4df814",
   "metadata": {},
   "source": [
    "|Data Science Tools |\n",
    "___________________\n",
    " |PyCharm           |\n",
    " |Visual Studio Code|\n",
    " |Jupyter Notebook  |"
   ]
  },
  {
   "cell_type": "markdown",
   "id": "28e53da2-989d-4b2c-85e1-99db2303f7c7",
   "metadata": {},
   "source": [
    "### Below are a few examples of evaluating arithmetic expressions in Python."
   ]
  },
  {
   "cell_type": "code",
   "execution_count": 8,
   "id": "f0fbb36e-0c88-46d5-9af2-8897cd135581",
   "metadata": {},
   "outputs": [
    {
     "data": {
      "text/plain": [
       "17"
      ]
     },
     "execution_count": 8,
     "metadata": {},
     "output_type": "execute_result"
    }
   ],
   "source": [
    "#This a simple arithmetic expression to mutiply then add integers.\n",
    "(3*4)+5"
   ]
  },
  {
   "cell_type": "code",
   "execution_count": 10,
   "id": "6ef3f183-30b1-4aa7-9fc8-341fdf384f6d",
   "metadata": {},
   "outputs": [
    {
     "data": {
      "text/plain": [
       "3.3333333333333335"
      ]
     },
     "execution_count": 10,
     "metadata": {},
     "output_type": "execute_result"
    }
   ],
   "source": [
    "#This will convert 200 minutes to hours by diving by 60.\n",
    "200/60"
   ]
  },
  {
   "cell_type": "markdown",
   "id": "efba0fd2-8f61-4220-920b-c80424f71a9a",
   "metadata": {},
   "source": [
    "## Author\n",
    "Isaac Balogun"
   ]
  },
  {
   "cell_type": "code",
   "execution_count": null,
   "id": "a6e9e86e-0fb0-47c5-a8ba-b9219e112047",
   "metadata": {},
   "outputs": [],
   "source": []
  }
 ],
 "metadata": {
  "kernelspec": {
   "display_name": "Python 3 (ipykernel)",
   "language": "python",
   "name": "python3"
  },
  "language_info": {
   "codemirror_mode": {
    "name": "ipython",
    "version": 3
   },
   "file_extension": ".py",
   "mimetype": "text/x-python",
   "name": "python",
   "nbconvert_exporter": "python",
   "pygments_lexer": "ipython3",
   "version": "3.11.5"
  }
 },
 "nbformat": 4,
 "nbformat_minor": 5
}
